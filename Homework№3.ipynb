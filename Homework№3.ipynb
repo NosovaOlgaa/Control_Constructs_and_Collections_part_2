{
 "cells": [
  {
   "cell_type": "code",
   "execution_count": 19,
   "metadata": {},
   "outputs": [
    {
     "data": {
      "text/plain": [
       "{15, 35, 54, 98, 119, 213}"
      ]
     },
     "execution_count": 19,
     "metadata": {},
     "output_type": "execute_result"
    }
   ],
   "source": [
    "'''Дана переменная, в которой хранится словарь, содержащий гео-метки для каждого пользователя.\n",
    "Вам необходимо написать программу, которая выведет на экран множество уникальных гео-меток всех пользователей.'''\n",
    "\n",
    "ids = {'user1': [213, 213, 213, 15, 213],\n",
    "'user2': [54, 54, 119, 119, 119],\n",
    "'user3': [213, 98, 98, 35]}\n",
    "\n",
    "geo = sum(ids.values(), []) \n",
    "set(geo)  "
   ]
  },
  {
   "cell_type": "code",
   "execution_count": 20,
   "metadata": {},
   "outputs": [
    {
     "name": "stdout",
     "output_type": "stream",
     "text": [
      "Поисковых запросов, содержащих 3 слова: 57.14 %\n",
      "Поисковых запросов, содержащих 2 слова: 42.86 %\n"
     ]
    }
   ],
   "source": [
    "'''Дана переменная, в которой хранится список поисковых запросов пользователя.\n",
    "Вам необходимо написать программу, которая выведет на экран распределение количества слов в запросах в требуемом виде.'''\n",
    "\n",
    "queries = [\n",
    "'смотреть сериалы онлайн',\n",
    "'новости спорта',\n",
    "'афиша кино',\n",
    "'курс доллара',\n",
    "'сериалы этим летом',\n",
    "'курс по питону',\n",
    "'сериалы про спорт']\n",
    "\n",
    "dict_queries = {}\n",
    "\n",
    "for quantity in queries:\n",
    "    quantity_words = len(quantity.split())\n",
    "    if quantity_words not in dict_queries.keys():\n",
    "        dict_queries[quantity_words] = 0\n",
    "    dict_queries[quantity_words] +=1\n",
    "\n",
    "for key, value in dict_queries.items():\n",
    "    percent = round((value/sum(dict_queries.values())*100), 2)\n",
    "    print(f'Поисковых запросов, содержащих {key} слова: {percent} %')"
   ]
  },
  {
   "cell_type": "code",
   "execution_count": 21,
   "metadata": {},
   "outputs": [
    {
     "name": "stdout",
     "output_type": "stream",
     "text": [
      "vk {'revenue': 103, 'cost': 98, 'ROI': 5.1}\n",
      "yandex {'revenue': 179, 'cost': 153, 'ROI': 16.99}\n",
      "facebook {'revenue': 103, 'cost': 110, 'ROI': -6.36}\n",
      "adwords {'revenue': 35, 'cost': 34, 'ROI': 2.94}\n",
      "twitter {'revenue': 11, 'cost': 24, 'ROI': -54.17}\n"
     ]
    }
   ],
   "source": [
    "'''Дана переменная, в которой хранится информация о затратах и доходе рекламных кампаний по различным источникам. \n",
    "Необходимо дополнить исходную структуру показателем ROI, который рассчитаем по формуле: (revenue / cost - 1) * 100'''\n",
    "\n",
    "\n",
    "results = {\n",
    "'vk': {'revenue': 103, 'cost': 98},\n",
    "'yandex': {'revenue': 179, 'cost': 153},\n",
    "'facebook': {'revenue': 103, 'cost': 110},\n",
    "'adwords': {'revenue': 35, 'cost': 34},\n",
    "'twitter': {'revenue': 11, 'cost': 24},\n",
    "}\n",
    "\n",
    "\n",
    "for key, value in results.items():\n",
    "    value['ROI'] = round(((value['revenue'] / (value['cost']) - 1))*100, 2)\n",
    "    print(key, value)"
   ]
  },
  {
   "cell_type": "code",
   "execution_count": 22,
   "metadata": {},
   "outputs": [
    {
     "name": "stdout",
     "output_type": "stream",
     "text": [
      "Максимальный объем продаж на рекламном канале:  vk\n",
      "Максимальный объем продаж на рекламном канале:  ['vk', 'ok']\n"
     ]
    }
   ],
   "source": [
    "'''Дана переменная, в которой хранится статистика рекламных каналов по объемам продаж. \n",
    "Напишите программу, которая возвращает название канала с максимальным объемом продаж.'''\n",
    "\n",
    "#stats = {'facebook': 55, 'yandex': 115, 'vk': 120, 'google': 99, 'email': 42, 'ok': 98}\n",
    "\n",
    "stats = {'facebook': 55, 'yandex': 115, 'vk': 120, 'google': 99, 'email': 42, 'ok': 120}\n",
    "\n",
    "max_sales = max(stats.items(), key=lambda x: x[1])\n",
    "print('Максимальный объем продаж на рекламном канале: ', max_sales[0])\n",
    "\n",
    "#или - если максимальных значений несколько\n",
    "\n",
    "max_sales = max(stats.values())\n",
    "ms=list(key for key, value in stats.items() \n",
    "        if value == max_sales)\n",
    "print('Максимальный объем продаж на рекламном канале: ', ms)"
   ]
  },
  {
   "cell_type": "code",
   "execution_count": 23,
   "metadata": {},
   "outputs": [
    {
     "data": {
      "text/plain": [
       "{'a': {'b': {'c': {'d': {'e': 'f'}}}}}"
      ]
     },
     "execution_count": 23,
     "metadata": {},
     "output_type": "execute_result"
    }
   ],
   "source": [
    "'''Дан список произвольной длины. Необходимо написать код, который на основе исходного списка составит словарь \n",
    "такого уровня вложенности, какова длина исходного списка.'''\n",
    "\n",
    "my_list = ['a', 'b', 'c', 'd', 'e', 'f']\n",
    "\n",
    "#my_list = ['2018-01-01', 'yandex', 'cpc', '100']\n",
    "\n",
    "dict_my_list = my_list[-1]\n",
    "\n",
    "for el in my_list[-2::-1]:\n",
    "    dict_my_list = {el: dict_my_list}\n",
    "    \n",
    "dict_my_list "
   ]
  }
 ],
 "metadata": {
  "kernelspec": {
   "display_name": "Python 3",
   "language": "python",
   "name": "python3"
  },
  "language_info": {
   "codemirror_mode": {
    "name": "ipython",
    "version": 3
   },
   "file_extension": ".py",
   "mimetype": "text/x-python",
   "name": "python",
   "nbconvert_exporter": "python",
   "pygments_lexer": "ipython3",
   "version": "3.8.5"
  }
 },
 "nbformat": 4,
 "nbformat_minor": 4
}
